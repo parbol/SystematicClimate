{
 "cells": [
  {
   "cell_type": "code",
   "execution_count": null,
   "id": "686e2699-9265-44d6-ae2a-561f375c5940",
   "metadata": {},
   "outputs": [],
   "source": [
    "from pyesgf.search import SearchConnection\n",
    "import xarray as xr\n",
    "import os.path as op\n",
    "from tqdm import tqdm\n",
    "from datetime import datetime"
   ]
  },
  {
   "cell_type": "code",
   "execution_count": null,
   "id": "c7c119f7-02d9-4c22-a4e9-cc7ae2c76fa4",
   "metadata": {},
   "outputs": [],
   "source": [
    "conn = SearchConnection('http://esgf-data.dkrz.de/esg-search',\n",
    "                        distrib=True)"
   ]
  },
  {
   "cell_type": "code",
   "execution_count": null,
   "id": "7b4a8d9e-452b-4078-91f3-2eacc57b2097",
   "metadata": {},
   "outputs": [],
   "source": [
    "ctx = conn.new_context(project='CMIP6',\n",
    "                       variable='prc',\n",
    "                       experiment_id=\"historical\",\n",
    "                       frequency=\"day\")\n",
    "ctx.hit_count"
   ]
  },
  {
   "cell_type": "code",
   "execution_count": null,
   "id": "278a0af7-27e3-4b9d-a6cf-bf66826bf54f",
   "metadata": {},
   "outputs": [],
   "source": [
    "ctx.get_facet_options().keys()"
   ]
  },
  {
   "cell_type": "code",
   "execution_count": null,
   "id": "97183d37-94cc-4b87-a820-4f4a0b22b1c0",
   "metadata": {},
   "outputs": [],
   "source": [
    "datos = ctx.search()"
   ]
  },
  {
   "cell_type": "code",
   "execution_count": null,
   "id": "4fe93da8-dfd9-4414-9f1c-26b8fee77e23",
   "metadata": {},
   "outputs": [],
   "source": [
    "for idx, i in tqdm(enumerate(datos), total=len(datos)):\n",
    "    fc = i.file_context().search()[0]\n",
    "    outfile = op.join(\"./CMIP6\", op.basename(fc.opendap_url))\n",
    "    if op.isfile(outfile):\n",
    "        continue\n",
    "    with xr.open_dataset(fc.opendap_url) as ds:\n",
    "        prc = ds[\"prc\"]\n",
    "        prc = prc.sel(lat=slice(43, 44), lon=slice(355, 357))\n",
    "        prc.to_netcdf(outfile)"
   ]
  },
  {
   "cell_type": "code",
   "execution_count": null,
   "id": "a06946c8-eb58-4dfc-8989-f3698a55ecbf",
   "metadata": {},
   "outputs": [],
   "source": [
    "ctx = conn.new_context(project='CMIP6',\n",
    "                       variable='prc',\n",
    "                       experiment_id=\"historical\",\n",
    "                       frequency=\"day\",\n",
    "                       from_timestamp = datetime(1980,1,1).isoformat()+\"Z\",\n",
    "                       to_timestamp = datetime(2010,12,31, 23, 59, 59).isoformat()+\"Z\")\n",
    "ctx.hit_count"
   ]
  },
  {
   "cell_type": "code",
   "execution_count": null,
   "id": "5c574b31-63b1-43d0-b356-3b35b8742015",
   "metadata": {},
   "outputs": [],
   "source": [
    "datos = ctx.search()"
   ]
  },
  {
   "cell_type": "code",
   "execution_count": null,
   "id": "754b8aa4-5141-4e1c-af93-e23d280f59a4",
   "metadata": {},
   "outputs": [],
   "source": [
    "for idx, i in tqdm(enumerate(datos), total=len(datos)):\n",
    "    fc = i.file_context().search()[0]\n",
    "    print(fc.opendap_url)"
   ]
  },
  {
   "cell_type": "code",
   "execution_count": null,
   "id": "20e721bf-6bef-4f97-8577-caad668eb1f3",
   "metadata": {},
   "outputs": [],
   "source": [
    "datetime(2010,12,31, 23, 59, 59).isoformat()+\"Z\""
   ]
  },
  {
   "cell_type": "code",
   "execution_count": null,
   "id": "67485260-67c4-451c-a8a8-7579ad890099",
   "metadata": {},
   "outputs": [],
   "source": []
  }
 ],
 "metadata": {
  "kernelspec": {
   "display_name": "Python [conda env:sysclim]",
   "language": "python",
   "name": "conda-env-sysclim-py"
  },
  "language_info": {
   "codemirror_mode": {
    "name": "ipython",
    "version": 3
   },
   "file_extension": ".py",
   "mimetype": "text/x-python",
   "name": "python",
   "nbconvert_exporter": "python",
   "pygments_lexer": "ipython3",
   "version": "3.9.6"
  }
 },
 "nbformat": 4,
 "nbformat_minor": 5
}
