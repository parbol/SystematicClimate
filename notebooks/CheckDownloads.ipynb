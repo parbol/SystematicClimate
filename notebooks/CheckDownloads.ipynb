{
 "cells": [
  {
   "cell_type": "code",
   "execution_count": 1,
   "id": "43ae2c22-8806-4cd4-ae52-9317fc8cece6",
   "metadata": {},
   "outputs": [],
   "source": [
    "from glob import glob\n",
    "import os.path as op\n",
    "import pandas as pd\n",
    "import matplotlib.pyplot as plt"
   ]
  },
  {
   "cell_type": "markdown",
   "id": "2888b14d-b535-479e-9510-61febb28b12b",
   "metadata": {},
   "source": [
    "Vamos a cargar todos los dato que hemos descargado en un DataFrame para poder inspeccionar rápidamente qué modelos tenemos descargados."
   ]
  },
  {
   "cell_type": "code",
   "execution_count": 2,
   "id": "1dce0436-e06b-4c30-9a15-01593f24ce90",
   "metadata": {},
   "outputs": [],
   "source": [
    "ficheros = glob(\"/srv/SystematicClimate/CMIP6/*.nc\")"
   ]
  },
  {
   "cell_type": "code",
   "execution_count": 3,
   "id": "cae1f627-038f-4e86-8c4c-7c57d4a90f1f",
   "metadata": {},
   "outputs": [],
   "source": [
    "df = pd.DataFrame(index=list(range(len(ficheros))), columns=[\"Var\", \"TRes\", \"Model\", \"Scenario\", \"Ensemble\", \"NPI\", \"Dates\", \"File\"])"
   ]
  },
  {
   "cell_type": "code",
   "execution_count": 4,
   "id": "6acee381-5cf9-4c19-8aae-ae12546ef575",
   "metadata": {},
   "outputs": [],
   "source": [
    "for idx, i in enumerate(ficheros):\n",
    "    df.loc[idx] = [*op.basename(i).split(\".\")[0].split(\"_\"), i]"
   ]
  },
  {
   "cell_type": "code",
   "execution_count": 5,
   "id": "8b22acaf-5626-4dcf-a6fe-d87e92bfd2e1",
   "metadata": {},
   "outputs": [],
   "source": [
    "df[\"InitDate\"] = df[\"Dates\"].apply(lambda x: int(x.split(\"-\")[0][:4]))\n",
    "df[\"EndDate\"] = df[\"Dates\"].apply(lambda x: int(x.split(\"-\")[1][:4]))\n",
    "df[\"TCoverage\"] = df[\"EndDate\"] - df[\"InitDate\"]\n",
    "df = df[df[\"EndDate\"]>=2014]\n",
    "df = df.drop(\"Dates\", axis=1)\n",
    "df = df.reset_index()"
   ]
  },
  {
   "cell_type": "code",
   "execution_count": 6,
   "id": "7f15594d-0dd0-4351-8340-5d5c6d763db8",
   "metadata": {},
   "outputs": [
    {
     "data": {
      "text/html": [
       "<div>\n",
       "<style scoped>\n",
       "    .dataframe tbody tr th:only-of-type {\n",
       "        vertical-align: middle;\n",
       "    }\n",
       "\n",
       "    .dataframe tbody tr th {\n",
       "        vertical-align: top;\n",
       "    }\n",
       "\n",
       "    .dataframe thead th {\n",
       "        text-align: right;\n",
       "    }\n",
       "</style>\n",
       "<table border=\"1\" class=\"dataframe\">\n",
       "  <thead>\n",
       "    <tr style=\"text-align: right;\">\n",
       "      <th></th>\n",
       "      <th>index</th>\n",
       "      <th>Var</th>\n",
       "      <th>TRes</th>\n",
       "      <th>Model</th>\n",
       "      <th>Scenario</th>\n",
       "      <th>Ensemble</th>\n",
       "      <th>NPI</th>\n",
       "      <th>File</th>\n",
       "      <th>InitDate</th>\n",
       "      <th>EndDate</th>\n",
       "      <th>TCoverage</th>\n",
       "    </tr>\n",
       "  </thead>\n",
       "  <tbody>\n",
       "    <tr>\n",
       "      <th>0</th>\n",
       "      <td>1</td>\n",
       "      <td>pr</td>\n",
       "      <td>day</td>\n",
       "      <td>IPSL-CM6A-LR</td>\n",
       "      <td>historical</td>\n",
       "      <td>r11i1p1f1</td>\n",
       "      <td>gr</td>\n",
       "      <td>/srv/SystematicClimate/CMIP6/pr_day_IPSL-CM6A-...</td>\n",
       "      <td>1850</td>\n",
       "      <td>2014</td>\n",
       "      <td>164</td>\n",
       "    </tr>\n",
       "    <tr>\n",
       "      <th>1</th>\n",
       "      <td>6</td>\n",
       "      <td>pr</td>\n",
       "      <td>day</td>\n",
       "      <td>CAMS-CSM1-0</td>\n",
       "      <td>historical</td>\n",
       "      <td>r2i1p1f1</td>\n",
       "      <td>gn</td>\n",
       "      <td>/srv/SystematicClimate/CMIP6/pr_day_CAMS-CSM1-...</td>\n",
       "      <td>1850</td>\n",
       "      <td>2014</td>\n",
       "      <td>164</td>\n",
       "    </tr>\n",
       "    <tr>\n",
       "      <th>2</th>\n",
       "      <td>7</td>\n",
       "      <td>pr</td>\n",
       "      <td>day</td>\n",
       "      <td>CanESM5</td>\n",
       "      <td>historical</td>\n",
       "      <td>r19i1p2f1</td>\n",
       "      <td>gn</td>\n",
       "      <td>/srv/SystematicClimate/CMIP6/pr_day_CanESM5_hi...</td>\n",
       "      <td>1850</td>\n",
       "      <td>2014</td>\n",
       "      <td>164</td>\n",
       "    </tr>\n",
       "    <tr>\n",
       "      <th>3</th>\n",
       "      <td>10</td>\n",
       "      <td>pr</td>\n",
       "      <td>day</td>\n",
       "      <td>IPSL-CM6A-LR</td>\n",
       "      <td>historical</td>\n",
       "      <td>r12i1p1f1</td>\n",
       "      <td>gr</td>\n",
       "      <td>/srv/SystematicClimate/CMIP6/pr_day_IPSL-CM6A-...</td>\n",
       "      <td>1850</td>\n",
       "      <td>2014</td>\n",
       "      <td>164</td>\n",
       "    </tr>\n",
       "    <tr>\n",
       "      <th>4</th>\n",
       "      <td>11</td>\n",
       "      <td>pr</td>\n",
       "      <td>day</td>\n",
       "      <td>IPSL-CM6A-LR</td>\n",
       "      <td>historical</td>\n",
       "      <td>r3i1p1f1</td>\n",
       "      <td>gr</td>\n",
       "      <td>/srv/SystematicClimate/CMIP6/pr_day_IPSL-CM6A-...</td>\n",
       "      <td>1850</td>\n",
       "      <td>2014</td>\n",
       "      <td>164</td>\n",
       "    </tr>\n",
       "  </tbody>\n",
       "</table>\n",
       "</div>"
      ],
      "text/plain": [
       "   index Var TRes         Model    Scenario   Ensemble NPI  \\\n",
       "0      1  pr  day  IPSL-CM6A-LR  historical  r11i1p1f1  gr   \n",
       "1      6  pr  day   CAMS-CSM1-0  historical   r2i1p1f1  gn   \n",
       "2      7  pr  day       CanESM5  historical  r19i1p2f1  gn   \n",
       "3     10  pr  day  IPSL-CM6A-LR  historical  r12i1p1f1  gr   \n",
       "4     11  pr  day  IPSL-CM6A-LR  historical   r3i1p1f1  gr   \n",
       "\n",
       "                                                File  InitDate  EndDate  \\\n",
       "0  /srv/SystematicClimate/CMIP6/pr_day_IPSL-CM6A-...      1850     2014   \n",
       "1  /srv/SystematicClimate/CMIP6/pr_day_CAMS-CSM1-...      1850     2014   \n",
       "2  /srv/SystematicClimate/CMIP6/pr_day_CanESM5_hi...      1850     2014   \n",
       "3  /srv/SystematicClimate/CMIP6/pr_day_IPSL-CM6A-...      1850     2014   \n",
       "4  /srv/SystematicClimate/CMIP6/pr_day_IPSL-CM6A-...      1850     2014   \n",
       "\n",
       "   TCoverage  \n",
       "0        164  \n",
       "1        164  \n",
       "2        164  \n",
       "3        164  \n",
       "4        164  "
      ]
     },
     "execution_count": 6,
     "metadata": {},
     "output_type": "execute_result"
    }
   ],
   "source": [
    "df.head()"
   ]
  },
  {
   "cell_type": "markdown",
   "id": "af0b2fea-59a3-4871-9745-3cbce3e29fcf",
   "metadata": {},
   "source": [
    "Y vamos a listar qué modelos tenemos para cada variable. Nos interesan, por el momento, las variables pr y prc, que son la precipitación no convectiva y la convectiva, respectivamente. Precipitación es cualquier flujo de agua desde la atmósfera hacia la superficie, bien en forma líquida o sólida. Precipitación no convectiva es la que resulta de grandes sistemas frontales, la que afecta a grandes zonas, mientras que la convectiva es la típica que surge de tormentas generadas por la evaporación. El modelo las separa porque la no convectiva la resuelve mediante las ecuaciones del modelo, mientras que la no convectiva la tiene que «modelar» con un modelo en que el proceso físico se parametriza. "
   ]
  },
  {
   "cell_type": "code",
   "execution_count": 7,
   "id": "d0ecf1c6-11e8-4b4a-a735-412d59d29936",
   "metadata": {},
   "outputs": [
    {
     "name": "stdout",
     "output_type": "stream",
     "text": [
      "For var pr we have the following models:\n",
      "\t   1  - IPSL-CM6A-LR\n",
      "\t   2  - CAMS-CSM1-0\n",
      "\t   3  - CanESM5\n",
      "\t   4  - NorCPM1\n",
      "\t   5  - KACE-1-0-G\n",
      "\t   6  - BCC-ESM1\n",
      "\t   7  - IPSL-CM5A2-INCA\n",
      "\t   8  - KIOST-ESM\n",
      "\t   9  - IPSL-CM6A-LR-INCA\n",
      "For var prc we have the following models:\n",
      "\t   1  - CanESM5\n",
      "\t   2  - IPSL-CM6A-LR\n",
      "\t   3  - CNRM-ESM2-1\n",
      "\t   4  - CNRM-CM6-1\n",
      "\t   5  - BCC-ESM1\n"
     ]
    }
   ],
   "source": [
    "for g in df.groupby(\"Var\"):\n",
    "    print(f\"For var {g[0]} we have the following models:\")\n",
    "    for idx, i in enumerate(g[1][\"Model\"].unique()):\n",
    "        print(\"\\t{0:4d}  - {1:s}\".format(idx+1, i))"
   ]
  },
  {
   "cell_type": "markdown",
   "id": "86a461c4-b205-4dde-a204-81d2e1b6e240",
   "metadata": {},
   "source": [
    "# Check data content"
   ]
  },
  {
   "cell_type": "code",
   "execution_count": 8,
   "id": "c0ac0a72-0427-4978-988e-b1a83a9ad8d9",
   "metadata": {},
   "outputs": [],
   "source": [
    "import iris\n",
    "import iris.plot as iplt\n",
    "import seaborn as sns\n",
    "import numpy as np"
   ]
  },
  {
   "cell_type": "code",
   "execution_count": 9,
   "id": "0c525ad0-ed1a-4414-85fb-b3cae807ea8d",
   "metadata": {},
   "outputs": [
    {
     "name": "stderr",
     "output_type": "stream",
     "text": [
      "/home/manuel/miniconda3/envs/sysclim/lib/python3.9/site-packages/iris/fileformats/cf.py:374: UserWarning: Missing CF-netCDF boundary variable 'time_bounds', referenced by netCDF variable 'time'\n",
      "  warnings.warn(message % (name, nc_var_name))\n",
      "/home/manuel/miniconda3/envs/sysclim/lib/python3.9/site-packages/iris/fileformats/cf.py:861: UserWarning: Missing CF-netCDF measure variable 'areacella', referenced by netCDF variable 'pr'\n",
      "  warnings.warn(\n"
     ]
    }
   ],
   "source": [
    "cubes = iris.load(df.loc[0].File)"
   ]
  },
  {
   "cell_type": "code",
   "execution_count": 10,
   "id": "d576b7ab-cafb-4dad-a8e6-552eb69a5708",
   "metadata": {},
   "outputs": [
    {
     "name": "stdout",
     "output_type": "stream",
     "text": [
      "0: precipitation_flux / (kg m-2 s-1)   (time: 60265; latitude: 10; lon: 5)\n"
     ]
    }
   ],
   "source": [
    "print(cubes)"
   ]
  },
  {
   "cell_type": "code",
   "execution_count": 11,
   "id": "c4677fe9-8fc3-43b1-bb96-874114180cfc",
   "metadata": {},
   "outputs": [
    {
     "data": {
      "text/plain": [
       "[<matplotlib.lines.Line2D at 0x7fe33cde8910>]"
      ]
     },
     "execution_count": 11,
     "metadata": {},
     "output_type": "execute_result"
    },
    {
     "data": {
      "image/png": "[encoded data removed]",
      "text/plain": [
       "<Figure size 432x288 with 1 Axes>"
      ]
     },
     "metadata": {
      "needs_background": "light"
     },
     "output_type": "display_data"
    }
   ],
   "source": [
    "iplt.plot(cubes[0][:,0,0])"
   ]
  },
  {
   "cell_type": "code",
   "execution_count": 12,
   "id": "6ed98fc0-f733-44bc-ba6b-b06fc30c0e03",
   "metadata": {},
   "outputs": [
    {
     "name": "stderr",
     "output_type": "stream",
     "text": [
      "/tmp/ipykernel_30116/3819972166.py:1: RuntimeWarning: divide by zero encountered in log\n",
      "  sns.histplot(np.log(cubes[0][:,0,0].data))\n"
     ]
    },
    {
     "data": {
      "text/plain": [
       "<AxesSubplot:ylabel='Count'>"
      ]
     },
     "execution_count": 12,
     "metadata": {},
     "output_type": "execute_result"
    },
    {
     "data": {
      "image/png": "[encoded data removed]",
      "text/plain": [
       "<Figure size 432x288 with 1 Axes>"
      ]
     },
     "metadata": {
      "needs_background": "light"
     },
     "output_type": "display_data"
    }
   ],
   "source": [
    "sns.histplot(np.log(cubes[0][:,0,0].data))"
   ]
  },
  {
   "cell_type": "code",
   "execution_count": 136,
   "id": "7ff5d4bf-a490-45c4-8485-005598e383b3",
   "metadata": {},
   "outputs": [
    {
     "data": {
      "text/plain": [
       "(60265, 1, 1)"
      ]
     },
     "execution_count": 136,
     "metadata": {},
     "output_type": "execute_result"
    }
   ],
   "source": [
    "c.shape"
   ]
  },
  {
   "cell_type": "code",
   "execution_count": null,
   "id": "e84a9314-ca52-4e14-9591-68597ab936ec",
   "metadata": {},
   "outputs": [],
   "source": []
  }
 ],
 "metadata": {
  "kernelspec": {
   "display_name": "Python [conda env:sysclim]",
   "language": "python",
   "name": "conda-env-sysclim-py"
  },
  "language_info": {
   "codemirror_mode": {
    "name": "ipython",
    "version": 3
   },
   "file_extension": ".py",
   "mimetype": "text/x-python",
   "name": "python",
   "nbconvert_exporter": "python",
   "pygments_lexer": "ipython3",
   "version": "3.9.6"
  }
 },
 "nbformat": 4,
 "nbformat_minor": 5
}
